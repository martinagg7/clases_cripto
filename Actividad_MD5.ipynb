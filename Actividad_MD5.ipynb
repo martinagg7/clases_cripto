{
  "cells": [
    {
      "cell_type": "markdown",
      "metadata": {
        "id": "O2yE05koPzFh"
      },
      "source": [
        "# Verificación de Integridad de Archivos mediante Hash\n",
        "\n",
        "En entornos reales, es fundamental asegurarse de que un archivo no se ha alterado durante su transmisión o almacenamiento. Una forma de hacerlo es generando un \"hash\" del archivo, que es una especie de huella digital única. Si dos equipos generan el mismo hash para un archivo, se puede asumir que el contenido es idéntico.\n",
        "\n",
        "En esta práctica, usamos el algoritmo MD5 para calcular el hash de un archivo que se sube desde tu ordenador. Luego, este hash puede ser compartido y comparado con el de otro equipo para garantizar la integridad del archivo.\n",
        "\n",
        "**Pasos del ejercicio:**\n",
        "\n",
        "1. **Lectura del Archivo:**  \n",
        "2. **Cálculo del Hash:**  \n",
        "3. **Comparación:**  "
      ]
    },
    {
      "cell_type": "code",
      "execution_count": null,
      "metadata": {
        "id": "jFLQMuW3PzFl"
      },
      "outputs": [],
      "source": [
        "import hashlib\n",
        "\n",
        "def compute_hash_file(file_path, algorithm='md5'):\n",
        "    \"\"\"\n",
        "    Calcula el hash de un archivo leído desde 'file_path' utilizando el algoritmo indicado.\n",
        "\n",
        "    Parámetros:\n",
        "      file_path (str): Ruta completa del archivo.\n",
        "      algorithm (str): Algoritmo hash a utilizar (por ejemplo, 'md5' o 'sha256').\n",
        "\n",
        "    Retorna:\n",
        "      str: El hash calculado en formato hexadecimal.\n",
        "    \"\"\"\n",
        "    # Crear el objeto hash correspondiente\n",
        "    h = hashlib.new(algorithm)\n",
        "\n",
        "    # Leer el archivo en modo binario, procesándolo en bloques de 4096 bytes\n",
        "    with open(file_path, 'rb') as f:\n",
        "        for chunk in iter(lambda: f.read(4096), b''):\n",
        "            h.update(chunk)\n",
        "\n",
        "    return h.hexdigest()\n",
        "\n"
      ]
    },
    {
      "cell_type": "code",
      "execution_count": null,
      "metadata": {
        "id": "L6AqCmS4PzFm"
      },
      "outputs": [],
      "source": [
        "# Especifica la ruta del archivo que deseas procesar\n",
        "# Ejemplo: \"C:/ruta/a/tu/archivo.pdf\" o \"/home/usuario/archivo.docx\"\n",
        "file_original =   # Modifica esto según la ubicación de tu archivo\n",
        "file_copy = # Modifica esto según la ubicación de tu archivo\n",
        "\n",
        "# Calcular y mostrar los hashes MD5\n",
        "hash_md5_original = compute_hash_file(file_original, 'md5')\n",
        "hash_md5_copy = compute_hash_file(file_copy, 'md5')\n",
        "\n",
        "print(f\"Archivo: {file_original}\")\n",
        "print(f\"MD5: {hash_md5_original}\")\n",
        "print(f\"MD5: {hash_md5_copy}\")\n"
      ]
    },
    {
      "cell_type": "markdown",
      "metadata": {
        "id": "DWFd2_QkPzFn"
      },
      "source": [
        "### Caso real: Integridad del documento"
      ]
    },
    {
      "cell_type": "code",
      "execution_count": null,
      "metadata": {
        "id": "bxrkFZqqPzFn"
      },
      "outputs": [],
      "source": [
        "import rsa\n",
        "\n",
        "#Generar clave privada y pública\n",
        "public_key, private_key = rsa.newkeys(1024)\n",
        "\n",
        "#Creamos los ficheros de los claves .pem\n",
        "\n",
        "with open (\"public.pem\", \"wb\") as f:\n",
        "    f.write(public_key.save_pkcs1(\"PEM\"))\n",
        "\n",
        "with open (\"private.pem\", \"wb\") as f:\n",
        "    f.write(private_key.save_pkcs1(\"PEM\"))\n",
        "\n",
        "#Cargamos las claves\n",
        "\n",
        "with open (\"public.pem\", \"rb\") as f:\n",
        "    public_key=rsa.PublicKey.load_pkcs1(f.read())\n",
        "\n",
        "with open (\"private.pem\", \"rb\") as f:\n",
        "    private_key=rsa.PrivateKey.load_pkcs1(f.read())\n",
        "\n",
        "\n"
      ]
    }
  ],
  "metadata": {
    "kernelspec": {
      "display_name": "base",
      "language": "python",
      "name": "python3"
    },
    "language_info": {
      "codemirror_mode": {
        "name": "ipython",
        "version": 3
      },
      "file_extension": ".py",
      "mimetype": "text/x-python",
      "name": "python",
      "nbconvert_exporter": "python",
      "pygments_lexer": "ipython3",
      "version": "3.11.7"
    },
    "colab": {
      "provenance": []
    }
  },
  "nbformat": 4,
  "nbformat_minor": 0
}